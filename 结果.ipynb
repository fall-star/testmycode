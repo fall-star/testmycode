{
 "cells": [
  {
   "cell_type": "markdown",
   "metadata": {},
   "source": [
    "\"\"\"\n",
    "学习使用PIL库读取图片并转换为numpy数组\n",
    "学习使用transforms库将图片转换为tensor\n",
    "思考一下numpy和tensor的区别\n",
    "可以用调试器查看变量的类型和值\n",
    "\"\"\""
   ]
  },
  {
   "cell_type": "code",
   "execution_count": 1,
   "metadata": {},
   "outputs": [],
   "source": [
    "#导入库\n",
    "from PIL import Image\n",
    "from torchvision import transforms\n",
    "import numpy as np"
   ]
  },
  {
   "cell_type": "code",
   "execution_count": 2,
   "metadata": {},
   "outputs": [
    {
     "name": "stdout",
     "output_type": "stream",
     "text": [
      "(2560, 1528)\n",
      "PNG\n",
      "<PIL.PngImagePlugin.PngImageFile image mode=RGBA size=2560x1528 at 0x23D732CB3B0>\n"
     ]
    }
   ],
   "source": [
    "#打开并读取图片\n",
    "img = Image.open('./test.png')\n",
    "print(img.size)\n",
    "print(img.format)\n",
    "print(img)"
   ]
  },
  {
   "cell_type": "code",
   "execution_count": 3,
   "metadata": {},
   "outputs": [
    {
     "name": "stdout",
     "output_type": "stream",
     "text": [
      "(1528, 2560, 4)\n",
      "uint8\n",
      "[[ 18  42  69 255]\n",
      " [ 18  42  69 255]\n",
      " [ 18  42  69 255]\n",
      " ...\n",
      " [ 18  42  69 255]\n",
      " [ 18  42  69 255]\n",
      " [ 18  42  69 255]]\n"
     ]
    }
   ],
   "source": [
    "#转换为numpy数组\n",
    "img1 = np.array(img)\n",
    "print(img1.shape)\n",
    "print(img1.dtype)\n",
    "print(img1[0])"
   ]
  },
  {
   "cell_type": "code",
   "execution_count": 4,
   "metadata": {},
   "outputs": [
    {
     "name": "stdout",
     "output_type": "stream",
     "text": [
      "torch.Size([4, 1528, 2560])\n",
      "torch.float32\n",
      "tensor([[[0.0706, 0.0706, 0.0706,  ..., 0.0706, 0.0706, 0.0706],\n",
      "         [0.0706, 0.0706, 0.0706,  ..., 0.0706, 0.0706, 0.0706],\n",
      "         [0.0706, 0.0706, 0.0706,  ..., 0.0706, 0.0706, 0.0706],\n",
      "         ...,\n",
      "         [0.1333, 0.1333, 0.1333,  ..., 0.1333, 0.1333, 0.1333],\n",
      "         [0.1333, 0.1333, 0.1333,  ..., 0.1333, 0.1333, 0.1333],\n",
      "         [0.1333, 0.1333, 0.1333,  ..., 0.1333, 0.1333, 0.1333]],\n",
      "\n",
      "        [[0.1647, 0.1647, 0.1647,  ..., 0.1647, 0.1647, 0.1647],\n",
      "         [0.1647, 0.1647, 0.1647,  ..., 0.1647, 0.1647, 0.1647],\n",
      "         [0.1647, 0.1647, 0.1647,  ..., 0.1647, 0.1647, 0.1647],\n",
      "         ...,\n",
      "         [0.2941, 0.2941, 0.2941,  ..., 0.2941, 0.2941, 0.2941],\n",
      "         [0.2941, 0.2941, 0.2941,  ..., 0.2941, 0.2941, 0.2941],\n",
      "         [0.2941, 0.2941, 0.2941,  ..., 0.2941, 0.2941, 0.2941]],\n",
      "\n",
      "        [[0.2706, 0.2706, 0.2706,  ..., 0.2706, 0.2706, 0.2706],\n",
      "         [0.2706, 0.2706, 0.2706,  ..., 0.2706, 0.2706, 0.2706],\n",
      "         [0.2706, 0.2706, 0.2706,  ..., 0.2706, 0.2706, 0.2706],\n",
      "         ...,\n",
      "         [0.4745, 0.4745, 0.4745,  ..., 0.4745, 0.4745, 0.4745],\n",
      "         [0.4745, 0.4745, 0.4745,  ..., 0.4745, 0.4745, 0.4745],\n",
      "         [0.4745, 0.4745, 0.4745,  ..., 0.4745, 0.4745, 0.4745]],\n",
      "\n",
      "        [[1.0000, 1.0000, 1.0000,  ..., 1.0000, 1.0000, 1.0000],\n",
      "         [1.0000, 1.0000, 1.0000,  ..., 1.0000, 1.0000, 1.0000],\n",
      "         [1.0000, 1.0000, 1.0000,  ..., 1.0000, 1.0000, 1.0000],\n",
      "         ...,\n",
      "         [1.0000, 1.0000, 1.0000,  ..., 1.0000, 1.0000, 1.0000],\n",
      "         [1.0000, 1.0000, 1.0000,  ..., 1.0000, 1.0000, 1.0000],\n",
      "         [1.0000, 1.0000, 1.0000,  ..., 1.0000, 1.0000, 1.0000]]])\n"
     ]
    }
   ],
   "source": [
    "#转换为tensor\n",
    "img2 = transforms.ToTensor()(img)\n",
    "print(img2.shape)\n",
    "print(img2.dtype)\n",
    "print(img2)"
   ]
  }
 ],
 "metadata": {
  "kernelspec": {
   "display_name": "py312-64",
   "language": "python",
   "name": "python3"
  },
  "language_info": {
   "codemirror_mode": {
    "name": "ipython",
    "version": 3
   },
   "file_extension": ".py",
   "mimetype": "text/x-python",
   "name": "python",
   "nbconvert_exporter": "python",
   "pygments_lexer": "ipython3",
   "version": "3.12.6"
  }
 },
 "nbformat": 4,
 "nbformat_minor": 2
}
